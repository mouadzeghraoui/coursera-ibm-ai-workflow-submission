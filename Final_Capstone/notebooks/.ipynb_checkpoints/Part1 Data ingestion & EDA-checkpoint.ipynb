{
 "cells": [
  {
   "cell_type": "markdown",
   "id": "agricultural-category",
   "metadata": {},
   "source": [
    "# Part 1 : Data Ingestion & EDA\n",
    "------\n",
    "\n",
    "### 1) Assimilate the business scenario and articulate testable hypotheses.\n",
    "\n",
    "**Manager challenges :** \n",
    "\n",
    "- Spending too much time in predicting revenue\n",
    "- Predictions are not as accurate as they would like.\n",
    "\n",
    "**Goal:**\n",
    "\n",
    "- Create a service that, at any point in time, will predict the revenue for the following month.\n",
    "- They have also asked that the service be given the ability to project revenue for a specific country.\n",
    "\n",
    "**Advice:**\n",
    "\n",
    "- Keep the development time reasonable you have been advised to limit your model to the ten countries with the most revenue.\n",
    "\n",
    "**Null hypothesis:** \n",
    "\n",
    "Our service results are not more accurate than the current models of the managers.\n",
    "\n",
    "### 2) State the ideal data to address the business opportunity and clarify the rationale for needing specific data\n",
    "\n",
    "The idea data to address this business problem is to have :\n",
    "\n",
    "- Historical data with monthly revenue\n",
    "- Customer information (subscriber)\n",
    "- Subscription type for each customer\n",
    "- Country\n",
    "-----\n",
    "# Data Ingestion"
   ]
  },
  {
   "cell_type": "code",
   "execution_count": 1,
   "id": "interstate-shanghai",
   "metadata": {},
   "outputs": [],
   "source": [
    "## Importing necessary packages\n",
    "import os\n",
    "import pandas as pd\n",
    "import json\n",
    "import matplotlib.pyplot as plt\n",
    "import seaborn as sns\n",
    "sns.set(rc={'figure.figsize':(11.7,8.27)})\n",
    "sns.set_theme(style=\"darkgrid\")\n",
    "\n",
    "import warnings\n",
    "warnings.filterwarnings(\"ignore\")"
   ]
  },
  {
   "cell_type": "code",
   "execution_count": 2,
   "id": "frank-highway",
   "metadata": {},
   "outputs": [
    {
     "data": {
      "text/html": [
       "<div>\n",
       "<style scoped>\n",
       "    .dataframe tbody tr th:only-of-type {\n",
       "        vertical-align: middle;\n",
       "    }\n",
       "\n",
       "    .dataframe tbody tr th {\n",
       "        vertical-align: top;\n",
       "    }\n",
       "\n",
       "    .dataframe thead th {\n",
       "        text-align: right;\n",
       "    }\n",
       "</style>\n",
       "<table border=\"1\" class=\"dataframe\">\n",
       "  <thead>\n",
       "    <tr style=\"text-align: right;\">\n",
       "      <th></th>\n",
       "      <th>country</th>\n",
       "      <th>customer_id</th>\n",
       "      <th>invoice</th>\n",
       "      <th>total_price</th>\n",
       "      <th>StreamID</th>\n",
       "      <th>TimesViewed</th>\n",
       "      <th>year</th>\n",
       "      <th>month</th>\n",
       "      <th>day</th>\n",
       "    </tr>\n",
       "  </thead>\n",
       "  <tbody>\n",
       "    <tr>\n",
       "      <th>0</th>\n",
       "      <td>United Kingdom</td>\n",
       "      <td>15581.0</td>\n",
       "      <td>493463</td>\n",
       "      <td>2.95</td>\n",
       "      <td>20895</td>\n",
       "      <td>1</td>\n",
       "      <td>2018</td>\n",
       "      <td>01</td>\n",
       "      <td>01</td>\n",
       "    </tr>\n",
       "    <tr>\n",
       "      <th>1</th>\n",
       "      <td>United Kingdom</td>\n",
       "      <td>15581.0</td>\n",
       "      <td>493463</td>\n",
       "      <td>1.25</td>\n",
       "      <td>20866</td>\n",
       "      <td>1</td>\n",
       "      <td>2018</td>\n",
       "      <td>01</td>\n",
       "      <td>01</td>\n",
       "    </tr>\n",
       "    <tr>\n",
       "      <th>2</th>\n",
       "      <td>United Kingdom</td>\n",
       "      <td>15581.0</td>\n",
       "      <td>493463</td>\n",
       "      <td>0.85</td>\n",
       "      <td>85198</td>\n",
       "      <td>12</td>\n",
       "      <td>2018</td>\n",
       "      <td>01</td>\n",
       "      <td>01</td>\n",
       "    </tr>\n",
       "    <tr>\n",
       "      <th>3</th>\n",
       "      <td>United Kingdom</td>\n",
       "      <td>15581.0</td>\n",
       "      <td>493463</td>\n",
       "      <td>2.95</td>\n",
       "      <td>20897</td>\n",
       "      <td>1</td>\n",
       "      <td>2018</td>\n",
       "      <td>01</td>\n",
       "      <td>01</td>\n",
       "    </tr>\n",
       "    <tr>\n",
       "      <th>4</th>\n",
       "      <td>United Kingdom</td>\n",
       "      <td>15581.0</td>\n",
       "      <td>493463</td>\n",
       "      <td>2.95</td>\n",
       "      <td>20898</td>\n",
       "      <td>1</td>\n",
       "      <td>2018</td>\n",
       "      <td>01</td>\n",
       "      <td>01</td>\n",
       "    </tr>\n",
       "  </tbody>\n",
       "</table>\n",
       "</div>"
      ],
      "text/plain": [
       "          country  customer_id invoice  total_price StreamID  TimesViewed  \\\n",
       "0  United Kingdom      15581.0  493463         2.95    20895            1   \n",
       "1  United Kingdom      15581.0  493463         1.25    20866            1   \n",
       "2  United Kingdom      15581.0  493463         0.85    85198           12   \n",
       "3  United Kingdom      15581.0  493463         2.95    20897            1   \n",
       "4  United Kingdom      15581.0  493463         2.95    20898            1   \n",
       "\n",
       "   year month day  \n",
       "0  2018    01  01  \n",
       "1  2018    01  01  \n",
       "2  2018    01  01  \n",
       "3  2018    01  01  \n",
       "4  2018    01  01  "
      ]
     },
     "execution_count": 2,
     "metadata": {},
     "output_type": "execute_result"
    }
   ],
   "source": [
    "with open('../data/cs-train/invoices-2018-01.json', 'r') as f:\n",
    "    data = json.load(f)\n",
    "df = pd.DataFrame(data)\n",
    "df.head()"
   ]
  },
  {
   "cell_type": "code",
   "execution_count": 3,
   "id": "swiss-complex",
   "metadata": {},
   "outputs": [],
   "source": [
    "from obtaining_data import *"
   ]
  },
  {
   "cell_type": "code",
   "execution_count": 4,
   "id": "streaming-christian",
   "metadata": {},
   "outputs": [],
   "source": [
    "data_dir = \"/Users/mouadzeghraoui/Desktop/Capstone_Project/data/cs-train/\""
   ]
  },
  {
   "cell_type": "code",
   "execution_count": 5,
   "id": "regulation-restriction",
   "metadata": {},
   "outputs": [],
   "source": [
    "df = obtaining_data(data_dir)"
   ]
  },
  {
   "cell_type": "code",
   "execution_count": 6,
   "id": "involved-breach",
   "metadata": {},
   "outputs": [
    {
     "data": {
      "text/html": [
       "<div>\n",
       "<style scoped>\n",
       "    .dataframe tbody tr th:only-of-type {\n",
       "        vertical-align: middle;\n",
       "    }\n",
       "\n",
       "    .dataframe tbody tr th {\n",
       "        vertical-align: top;\n",
       "    }\n",
       "\n",
       "    .dataframe thead th {\n",
       "        text-align: right;\n",
       "    }\n",
       "</style>\n",
       "<table border=\"1\" class=\"dataframe\">\n",
       "  <thead>\n",
       "    <tr style=\"text-align: right;\">\n",
       "      <th></th>\n",
       "      <th>country</th>\n",
       "      <th>customer_id</th>\n",
       "      <th>invoice</th>\n",
       "      <th>price</th>\n",
       "      <th>stream_id</th>\n",
       "      <th>times_viewed</th>\n",
       "      <th>year</th>\n",
       "      <th>month</th>\n",
       "      <th>day</th>\n",
       "      <th>date</th>\n",
       "    </tr>\n",
       "  </thead>\n",
       "  <tbody>\n",
       "    <tr>\n",
       "      <th>0</th>\n",
       "      <td>United Kingdom</td>\n",
       "      <td>13085.0</td>\n",
       "      <td>489434</td>\n",
       "      <td>6.95</td>\n",
       "      <td>85048</td>\n",
       "      <td>12</td>\n",
       "      <td>2017</td>\n",
       "      <td>11</td>\n",
       "      <td>28</td>\n",
       "      <td>2017-11-28</td>\n",
       "    </tr>\n",
       "    <tr>\n",
       "      <th>1</th>\n",
       "      <td>United Kingdom</td>\n",
       "      <td>NaN</td>\n",
       "      <td>489597</td>\n",
       "      <td>8.65</td>\n",
       "      <td>22130</td>\n",
       "      <td>1</td>\n",
       "      <td>2017</td>\n",
       "      <td>11</td>\n",
       "      <td>28</td>\n",
       "      <td>2017-11-28</td>\n",
       "    </tr>\n",
       "    <tr>\n",
       "      <th>2</th>\n",
       "      <td>United Kingdom</td>\n",
       "      <td>NaN</td>\n",
       "      <td>489597</td>\n",
       "      <td>1.70</td>\n",
       "      <td>22132</td>\n",
       "      <td>6</td>\n",
       "      <td>2017</td>\n",
       "      <td>11</td>\n",
       "      <td>28</td>\n",
       "      <td>2017-11-28</td>\n",
       "    </tr>\n",
       "    <tr>\n",
       "      <th>3</th>\n",
       "      <td>United Kingdom</td>\n",
       "      <td>NaN</td>\n",
       "      <td>489597</td>\n",
       "      <td>1.70</td>\n",
       "      <td>22133</td>\n",
       "      <td>4</td>\n",
       "      <td>2017</td>\n",
       "      <td>11</td>\n",
       "      <td>28</td>\n",
       "      <td>2017-11-28</td>\n",
       "    </tr>\n",
       "    <tr>\n",
       "      <th>4</th>\n",
       "      <td>United Kingdom</td>\n",
       "      <td>NaN</td>\n",
       "      <td>489597</td>\n",
       "      <td>0.87</td>\n",
       "      <td>22134</td>\n",
       "      <td>1</td>\n",
       "      <td>2017</td>\n",
       "      <td>11</td>\n",
       "      <td>28</td>\n",
       "      <td>2017-11-28</td>\n",
       "    </tr>\n",
       "  </tbody>\n",
       "</table>\n",
       "</div>"
      ],
      "text/plain": [
       "          country  customer_id invoice  price stream_id times_viewed  year  \\\n",
       "0  United Kingdom      13085.0  489434   6.95     85048           12  2017   \n",
       "1  United Kingdom          NaN  489597   8.65     22130            1  2017   \n",
       "2  United Kingdom          NaN  489597   1.70     22132            6  2017   \n",
       "3  United Kingdom          NaN  489597   1.70     22133            4  2017   \n",
       "4  United Kingdom          NaN  489597   0.87     22134            1  2017   \n",
       "\n",
       "  month day       date  \n",
       "0    11  28 2017-11-28  \n",
       "1    11  28 2017-11-28  \n",
       "2    11  28 2017-11-28  \n",
       "3    11  28 2017-11-28  \n",
       "4    11  28 2017-11-28  "
      ]
     },
     "execution_count": 6,
     "metadata": {},
     "output_type": "execute_result"
    }
   ],
   "source": [
    "df.head()"
   ]
  },
  {
   "cell_type": "code",
   "execution_count": 7,
   "id": "worthy-creation",
   "metadata": {},
   "outputs": [
    {
     "data": {
      "text/plain": [
       "(815011, 10)"
      ]
     },
     "execution_count": 7,
     "metadata": {},
     "output_type": "execute_result"
    }
   ],
   "source": [
    "df.shape"
   ]
  },
  {
   "cell_type": "code",
   "execution_count": 8,
   "id": "blessed-louisville",
   "metadata": {},
   "outputs": [
    {
     "data": {
      "text/plain": [
       "country                 object\n",
       "customer_id            float64\n",
       "invoice                 object\n",
       "price                  float64\n",
       "stream_id               object\n",
       "times_viewed            object\n",
       "year                    object\n",
       "month                   object\n",
       "day                     object\n",
       "date            datetime64[ns]\n",
       "dtype: object"
      ]
     },
     "execution_count": 8,
     "metadata": {},
     "output_type": "execute_result"
    }
   ],
   "source": [
    "df.dtypes"
   ]
  },
  {
   "cell_type": "code",
   "execution_count": 9,
   "id": "provincial-acting",
   "metadata": {},
   "outputs": [],
   "source": [
    "df = correct_datatype(df)"
   ]
  },
  {
   "cell_type": "code",
   "execution_count": 10,
   "id": "overall-final",
   "metadata": {},
   "outputs": [
    {
     "data": {
      "text/plain": [
       "country                 object\n",
       "customer_id            float64\n",
       "invoice                 object\n",
       "price                  float64\n",
       "stream_id               object\n",
       "times_viewed             int64\n",
       "year                    object\n",
       "month                   object\n",
       "day                     object\n",
       "date            datetime64[ns]\n",
       "dtype: object"
      ]
     },
     "execution_count": 10,
     "metadata": {},
     "output_type": "execute_result"
    }
   ],
   "source": [
    "df.dtypes"
   ]
  },
  {
   "cell_type": "markdown",
   "id": "documentary-retirement",
   "metadata": {},
   "source": [
    "---\n",
    "## Clean data"
   ]
  },
  {
   "cell_type": "code",
   "execution_count": 11,
   "id": "speaking-crack",
   "metadata": {},
   "outputs": [
    {
     "name": "stdout",
     "output_type": "stream",
     "text": [
      "Your selected dataframe has 10 columns.\n",
      "There are 1 columns that have missing values.\n"
     ]
    },
    {
     "data": {
      "text/html": [
       "<div>\n",
       "<style scoped>\n",
       "    .dataframe tbody tr th:only-of-type {\n",
       "        vertical-align: middle;\n",
       "    }\n",
       "\n",
       "    .dataframe tbody tr th {\n",
       "        vertical-align: top;\n",
       "    }\n",
       "\n",
       "    .dataframe thead th {\n",
       "        text-align: right;\n",
       "    }\n",
       "</style>\n",
       "<table border=\"1\" class=\"dataframe\">\n",
       "  <thead>\n",
       "    <tr style=\"text-align: right;\">\n",
       "      <th></th>\n",
       "      <th>Missing Values</th>\n",
       "      <th>% of Total Values</th>\n",
       "    </tr>\n",
       "  </thead>\n",
       "  <tbody>\n",
       "    <tr>\n",
       "      <th>customer_id</th>\n",
       "      <td>189762</td>\n",
       "      <td>23.3</td>\n",
       "    </tr>\n",
       "  </tbody>\n",
       "</table>\n",
       "</div>"
      ],
      "text/plain": [
       "             Missing Values  % of Total Values\n",
       "customer_id          189762               23.3"
      ]
     },
     "execution_count": 11,
     "metadata": {},
     "output_type": "execute_result"
    }
   ],
   "source": [
    "missing_values_table(df)"
   ]
  },
  {
   "cell_type": "code",
   "execution_count": 12,
   "id": "foster-government",
   "metadata": {},
   "outputs": [
    {
     "name": "stdout",
     "output_type": "stream",
     "text": [
      "Removed 28844 duplicate rows\n"
     ]
    }
   ],
   "source": [
    "data_clean = remove_duplicated_rows(df)"
   ]
  },
  {
   "cell_type": "markdown",
   "id": "fourth-hurricane",
   "metadata": {},
   "source": [
    "-----\n",
    "# Exploratory Data Analysis\n",
    "### Countries vs revenues"
   ]
  },
  {
   "cell_type": "code",
   "execution_count": 13,
   "id": "personal-iceland",
   "metadata": {},
   "outputs": [],
   "source": [
    "top10 = data_clean.groupby(['country']).price.sum().sort_values(ascending=False)[0:10]"
   ]
  },
  {
   "cell_type": "code",
   "execution_count": 14,
   "id": "powerful-criminal",
   "metadata": {},
   "outputs": [],
   "source": [
    "data_clean_top10_country = data_clean[data_clean['country'].isin(top10.index)]"
   ]
  },
  {
   "cell_type": "code",
   "execution_count": 15,
   "id": "complete-theology",
   "metadata": {},
   "outputs": [
    {
     "data": {
      "text/plain": [
       "country\n",
       "United Kingdom    3.381963e+06\n",
       "EIRE              1.062234e+05\n",
       "Germany           4.835679e+04\n",
       "France            3.966539e+04\n",
       "Norway            3.833638e+04\n",
       "Spain             1.589153e+04\n",
       "Hong Kong         1.444137e+04\n",
       "Portugal          1.318820e+04\n",
       "Singapore         1.317592e+04\n",
       "Netherlands       1.230615e+04\n",
       "Name: price, dtype: float64"
      ]
     },
     "execution_count": 15,
     "metadata": {},
     "output_type": "execute_result"
    }
   ],
   "source": [
    "top10"
   ]
  },
  {
   "cell_type": "markdown",
   "id": "proper-portal",
   "metadata": {},
   "source": [
    "### 2. Average revenue of custumer per country"
   ]
  },
  {
   "cell_type": "code",
   "execution_count": 16,
   "id": "genetic-plumbing",
   "metadata": {},
   "outputs": [
    {
     "data": {
      "image/png": "[encoded data removed]",
      "text/plain": [
       "<Figure size 842.4x595.44 with 1 Axes>"
      ]
     },
     "metadata": {},
     "output_type": "display_data"
    }
   ],
   "source": [
    "table1 = pd.pivot_table(data_clean_top10_country,index='country',values=\"price\")\n",
    "table1 = table1.sort_values(by = 'price', ascending=False)\n",
    "ax1 = sns.barplot(x=table1.index, y=\"price\", data=table1,order=table1.index)"
   ]
  },
  {
   "cell_type": "markdown",
   "id": "vanilla-teddy",
   "metadata": {},
   "source": [
    "### 3. Average of streaming views per country"
   ]
  },
  {
   "cell_type": "code",
   "execution_count": 17,
   "id": "least-pride",
   "metadata": {},
   "outputs": [
    {
     "data": {
      "image/png": "[encoded data removed]",
      "text/plain": [
       "<Figure size 842.4x595.44 with 1 Axes>"
      ]
     },
     "metadata": {},
     "output_type": "display_data"
    }
   ],
   "source": [
    "table2 = pd.pivot_table(data_clean_top10_country,index='country',values=\"times_viewed\")\n",
    "table2 = table2.sort_values(by = \"times_viewed\", ascending=False)\n",
    "\n",
    "ax2 = sns.barplot(x=table2.index, y=\"times_viewed\", data=table2,order=table2.index)"
   ]
  },
  {
   "cell_type": "code",
   "execution_count": 18,
   "id": "split-insert",
   "metadata": {},
   "outputs": [
    {
     "data": {
      "text/plain": [
       "<matplotlib.axes._subplots.AxesSubplot at 0x7fe5125b3100>"
      ]
     },
     "execution_count": 18,
     "metadata": {},
     "output_type": "execute_result"
    },
    {
     "data": {
      "image/png": "[encoded data removed]",
      "text/plain": [
       "<Figure size 842.4x595.44 with 1 Axes>"
      ]
     },
     "metadata": {},
     "output_type": "display_data"
    }
   ],
   "source": [
    "table3 = pd.pivot_table(data_clean_top10_country,index='country',columns = [\"year\"], values=\"price\")\n",
    "table3.plot(kind='bar')"
   ]
  },
  {
   "cell_type": "markdown",
   "id": "welcome-shape",
   "metadata": {},
   "source": [
    "in 2018 we have a high revenue/Big spikes in `Hong Kong` and `Norway`, The question that I have:\n",
    " - Is is an outlier?\n",
    " - If not, why this revenue decreased significantly\n",
    " \n",
    "In 2019 we have a good revenue increase rate in `Sangapore`\n",
    "- What is the reason? What was the strategie adopted in this region?"
   ]
  },
  {
   "cell_type": "code",
   "execution_count": 19,
   "id": "protective-hartford",
   "metadata": {},
   "outputs": [
    {
     "data": {
      "text/plain": [
       "<matplotlib.axes._subplots.AxesSubplot at 0x7fe5022d1610>"
      ]
     },
     "execution_count": 19,
     "metadata": {},
     "output_type": "execute_result"
    },
    {
     "data": {
      "image/png": "[encoded data removed]",
      "text/plain": [
       "<Figure size 842.4x595.44 with 1 Axes>"
      ]
     },
     "metadata": {},
     "output_type": "display_data"
    }
   ],
   "source": [
    "table4 = pd.pivot_table(data_clean_top10_country,index='country',columns = [\"year\"], values=\"times_viewed\")\n",
    "sns.set() \n",
    "table4.plot(kind='bar')"
   ]
  },
  {
   "cell_type": "markdown",
   "id": "devoted-enemy",
   "metadata": {},
   "source": [
    "- Steaming time seems to be the same in all countries"
   ]
  },
  {
   "cell_type": "code",
   "execution_count": 20,
   "id": "pointed-phrase",
   "metadata": {},
   "outputs": [
    {
     "data": {
      "text/plain": [
       "customer_id    -0.002398\n",
       "price           1.000000\n",
       "times_viewed   -0.015430\n",
       "dtype: float64"
      ]
     },
     "execution_count": 20,
     "metadata": {},
     "output_type": "execute_result"
    }
   ],
   "source": [
    "data_clean_top10_country.corrwith(data_clean_top10_country[\"price\"])"
   ]
  },
  {
   "cell_type": "code",
   "execution_count": 21,
   "id": "adolescent-pacific",
   "metadata": {},
   "outputs": [
    {
     "data": {
      "text/html": [
       "<div>\n",
       "<style scoped>\n",
       "    .dataframe tbody tr th:only-of-type {\n",
       "        vertical-align: middle;\n",
       "    }\n",
       "\n",
       "    .dataframe tbody tr th {\n",
       "        vertical-align: top;\n",
       "    }\n",
       "\n",
       "    .dataframe thead th {\n",
       "        text-align: right;\n",
       "    }\n",
       "</style>\n",
       "<table border=\"1\" class=\"dataframe\">\n",
       "  <thead>\n",
       "    <tr style=\"text-align: right;\">\n",
       "      <th></th>\n",
       "      <th>country</th>\n",
       "      <th>customer_id</th>\n",
       "      <th>invoice</th>\n",
       "      <th>price</th>\n",
       "      <th>stream_id</th>\n",
       "      <th>times_viewed</th>\n",
       "      <th>year</th>\n",
       "      <th>month</th>\n",
       "      <th>day</th>\n",
       "      <th>date</th>\n",
       "    </tr>\n",
       "  </thead>\n",
       "  <tbody>\n",
       "    <tr>\n",
       "      <th>0</th>\n",
       "      <td>United Kingdom</td>\n",
       "      <td>13085.0</td>\n",
       "      <td>489434</td>\n",
       "      <td>6.95</td>\n",
       "      <td>85048</td>\n",
       "      <td>12</td>\n",
       "      <td>2017</td>\n",
       "      <td>11</td>\n",
       "      <td>28</td>\n",
       "      <td>2017-11-28</td>\n",
       "    </tr>\n",
       "    <tr>\n",
       "      <th>1</th>\n",
       "      <td>United Kingdom</td>\n",
       "      <td>NaN</td>\n",
       "      <td>489597</td>\n",
       "      <td>8.65</td>\n",
       "      <td>22130</td>\n",
       "      <td>1</td>\n",
       "      <td>2017</td>\n",
       "      <td>11</td>\n",
       "      <td>28</td>\n",
       "      <td>2017-11-28</td>\n",
       "    </tr>\n",
       "    <tr>\n",
       "      <th>2</th>\n",
       "      <td>United Kingdom</td>\n",
       "      <td>NaN</td>\n",
       "      <td>489597</td>\n",
       "      <td>1.70</td>\n",
       "      <td>22132</td>\n",
       "      <td>6</td>\n",
       "      <td>2017</td>\n",
       "      <td>11</td>\n",
       "      <td>28</td>\n",
       "      <td>2017-11-28</td>\n",
       "    </tr>\n",
       "    <tr>\n",
       "      <th>3</th>\n",
       "      <td>United Kingdom</td>\n",
       "      <td>NaN</td>\n",
       "      <td>489597</td>\n",
       "      <td>1.70</td>\n",
       "      <td>22133</td>\n",
       "      <td>4</td>\n",
       "      <td>2017</td>\n",
       "      <td>11</td>\n",
       "      <td>28</td>\n",
       "      <td>2017-11-28</td>\n",
       "    </tr>\n",
       "    <tr>\n",
       "      <th>4</th>\n",
       "      <td>United Kingdom</td>\n",
       "      <td>NaN</td>\n",
       "      <td>489597</td>\n",
       "      <td>0.87</td>\n",
       "      <td>22134</td>\n",
       "      <td>1</td>\n",
       "      <td>2017</td>\n",
       "      <td>11</td>\n",
       "      <td>28</td>\n",
       "      <td>2017-11-28</td>\n",
       "    </tr>\n",
       "    <tr>\n",
       "      <th>...</th>\n",
       "      <td>...</td>\n",
       "      <td>...</td>\n",
       "      <td>...</td>\n",
       "      <td>...</td>\n",
       "      <td>...</td>\n",
       "      <td>...</td>\n",
       "      <td>...</td>\n",
       "      <td>...</td>\n",
       "      <td>...</td>\n",
       "      <td>...</td>\n",
       "    </tr>\n",
       "    <tr>\n",
       "      <th>815006</th>\n",
       "      <td>United Kingdom</td>\n",
       "      <td>15628.0</td>\n",
       "      <td>562163</td>\n",
       "      <td>0.85</td>\n",
       "      <td>21544</td>\n",
       "      <td>12</td>\n",
       "      <td>2019</td>\n",
       "      <td>07</td>\n",
       "      <td>31</td>\n",
       "      <td>2019-07-31</td>\n",
       "    </tr>\n",
       "    <tr>\n",
       "      <th>815007</th>\n",
       "      <td>United Kingdom</td>\n",
       "      <td>15628.0</td>\n",
       "      <td>562163</td>\n",
       "      <td>1.95</td>\n",
       "      <td>47591D</td>\n",
       "      <td>8</td>\n",
       "      <td>2019</td>\n",
       "      <td>07</td>\n",
       "      <td>31</td>\n",
       "      <td>2019-07-31</td>\n",
       "    </tr>\n",
       "    <tr>\n",
       "      <th>815008</th>\n",
       "      <td>United Kingdom</td>\n",
       "      <td>15628.0</td>\n",
       "      <td>562163</td>\n",
       "      <td>0.83</td>\n",
       "      <td>23167</td>\n",
       "      <td>12</td>\n",
       "      <td>2019</td>\n",
       "      <td>07</td>\n",
       "      <td>31</td>\n",
       "      <td>2019-07-31</td>\n",
       "    </tr>\n",
       "    <tr>\n",
       "      <th>815009</th>\n",
       "      <td>United Kingdom</td>\n",
       "      <td>15628.0</td>\n",
       "      <td>562163</td>\n",
       "      <td>4.95</td>\n",
       "      <td>22138</td>\n",
       "      <td>3</td>\n",
       "      <td>2019</td>\n",
       "      <td>07</td>\n",
       "      <td>31</td>\n",
       "      <td>2019-07-31</td>\n",
       "    </tr>\n",
       "    <tr>\n",
       "      <th>815010</th>\n",
       "      <td>United Kingdom</td>\n",
       "      <td>15628.0</td>\n",
       "      <td>562163</td>\n",
       "      <td>1.65</td>\n",
       "      <td>22558</td>\n",
       "      <td>12</td>\n",
       "      <td>2019</td>\n",
       "      <td>07</td>\n",
       "      <td>31</td>\n",
       "      <td>2019-07-31</td>\n",
       "    </tr>\n",
       "  </tbody>\n",
       "</table>\n",
       "<p>769181 rows × 10 columns</p>\n",
       "</div>"
      ],
      "text/plain": [
       "               country  customer_id invoice  price stream_id  times_viewed  \\\n",
       "0       United Kingdom      13085.0  489434   6.95     85048            12   \n",
       "1       United Kingdom          NaN  489597   8.65     22130             1   \n",
       "2       United Kingdom          NaN  489597   1.70     22132             6   \n",
       "3       United Kingdom          NaN  489597   1.70     22133             4   \n",
       "4       United Kingdom          NaN  489597   0.87     22134             1   \n",
       "...                ...          ...     ...    ...       ...           ...   \n",
       "815006  United Kingdom      15628.0  562163   0.85     21544            12   \n",
       "815007  United Kingdom      15628.0  562163   1.95    47591D             8   \n",
       "815008  United Kingdom      15628.0  562163   0.83     23167            12   \n",
       "815009  United Kingdom      15628.0  562163   4.95     22138             3   \n",
       "815010  United Kingdom      15628.0  562163   1.65     22558            12   \n",
       "\n",
       "        year month day       date  \n",
       "0       2017    11  28 2017-11-28  \n",
       "1       2017    11  28 2017-11-28  \n",
       "2       2017    11  28 2017-11-28  \n",
       "3       2017    11  28 2017-11-28  \n",
       "4       2017    11  28 2017-11-28  \n",
       "...      ...   ...  ..        ...  \n",
       "815006  2019    07  31 2019-07-31  \n",
       "815007  2019    07  31 2019-07-31  \n",
       "815008  2019    07  31 2019-07-31  \n",
       "815009  2019    07  31 2019-07-31  \n",
       "815010  2019    07  31 2019-07-31  \n",
       "\n",
       "[769181 rows x 10 columns]"
      ]
     },
     "execution_count": 21,
     "metadata": {},
     "output_type": "execute_result"
    }
   ],
   "source": [
    "data_clean_top10_country"
   ]
  },
  {
   "cell_type": "markdown",
   "id": "billion-subdivision",
   "metadata": {},
   "source": [
    "### relationship plot"
   ]
  },
  {
   "cell_type": "code",
   "execution_count": 22,
   "id": "requested-second",
   "metadata": {},
   "outputs": [
    {
     "data": {
      "text/plain": [
       "38970.0"
      ]
     },
     "execution_count": 22,
     "metadata": {},
     "output_type": "execute_result"
    }
   ],
   "source": [
    "data_clean_top10_country[data_clean_top10_country.country == 'United Kingdom'].price.max()"
   ]
  },
  {
   "cell_type": "code",
   "execution_count": 23,
   "id": "fitted-coral",
   "metadata": {},
   "outputs": [
    {
     "data": {
      "text/plain": [
       "Text(0.5, 1.0, 'Distribution of height')"
      ]
     },
     "execution_count": 23,
     "metadata": {},
     "output_type": "execute_result"
    },
    {
     "data": {
      "image/png": "[encoded data removed]",
      "text/plain": [
       "<Figure size 842.4x595.44 with 1 Axes>"
      ]
     },
     "metadata": {},
     "output_type": "display_data"
    }
   ],
   "source": [
    "ax = sns.boxplot(data_clean_top10_country.price)\n",
    "\n",
    "# notation indicating an outlier\n",
    "ax.annotate('Outlier', xy=(190,0), xytext=(186,-0.05), fontsize=14,\n",
    "            arrowprops=dict(arrowstyle='->', ec='grey', lw=2), bbox = dict(boxstyle=\"round\", fc=\"0.8\"))\n",
    "\n",
    "# xtick, label, and title\n",
    "plt.xticks(fontsize=14)\n",
    "plt.xlabel('height', fontsize=14)\n",
    "plt.title('Distribution of height', fontsize=20)"
   ]
  },
  {
   "cell_type": "code",
   "execution_count": 24,
   "id": "primary-handy",
   "metadata": {},
   "outputs": [
    {
     "data": {
      "text/html": [
       "<div>\n",
       "<style scoped>\n",
       "    .dataframe tbody tr th:only-of-type {\n",
       "        vertical-align: middle;\n",
       "    }\n",
       "\n",
       "    .dataframe tbody tr th {\n",
       "        vertical-align: top;\n",
       "    }\n",
       "\n",
       "    .dataframe thead th {\n",
       "        text-align: right;\n",
       "    }\n",
       "</style>\n",
       "<table border=\"1\" class=\"dataframe\">\n",
       "  <thead>\n",
       "    <tr style=\"text-align: right;\">\n",
       "      <th></th>\n",
       "      <th>price</th>\n",
       "      <th>times_viewed</th>\n",
       "    </tr>\n",
       "  </thead>\n",
       "  <tbody>\n",
       "    <tr>\n",
       "      <th>count</th>\n",
       "      <td>769181.000000</td>\n",
       "      <td>769181.000000</td>\n",
       "    </tr>\n",
       "    <tr>\n",
       "      <th>mean</th>\n",
       "      <td>4.788923</td>\n",
       "      <td>5.235180</td>\n",
       "    </tr>\n",
       "    <tr>\n",
       "      <th>std</th>\n",
       "      <td>137.121137</td>\n",
       "      <td>5.116201</td>\n",
       "    </tr>\n",
       "    <tr>\n",
       "      <th>min</th>\n",
       "      <td>-53594.360000</td>\n",
       "      <td>0.000000</td>\n",
       "    </tr>\n",
       "    <tr>\n",
       "      <th>25%</th>\n",
       "      <td>1.250000</td>\n",
       "      <td>1.000000</td>\n",
       "    </tr>\n",
       "    <tr>\n",
       "      <th>50%</th>\n",
       "      <td>2.100000</td>\n",
       "      <td>3.000000</td>\n",
       "    </tr>\n",
       "    <tr>\n",
       "      <th>75%</th>\n",
       "      <td>4.210000</td>\n",
       "      <td>8.000000</td>\n",
       "    </tr>\n",
       "    <tr>\n",
       "      <th>max</th>\n",
       "      <td>38970.000000</td>\n",
       "      <td>24.000000</td>\n",
       "    </tr>\n",
       "  </tbody>\n",
       "</table>\n",
       "</div>"
      ],
      "text/plain": [
       "               price   times_viewed\n",
       "count  769181.000000  769181.000000\n",
       "mean        4.788923       5.235180\n",
       "std       137.121137       5.116201\n",
       "min    -53594.360000       0.000000\n",
       "25%         1.250000       1.000000\n",
       "50%         2.100000       3.000000\n",
       "75%         4.210000       8.000000\n",
       "max     38970.000000      24.000000"
      ]
     },
     "execution_count": 24,
     "metadata": {},
     "output_type": "execute_result"
    }
   ],
   "source": [
    "data_clean_top10_country[['price','times_viewed']].describe()"
   ]
  },
  {
   "cell_type": "code",
   "execution_count": 25,
   "id": "cleared-campaign",
   "metadata": {},
   "outputs": [
    {
     "data": {
      "text/plain": [
       "-53594.36"
      ]
     },
     "execution_count": 25,
     "metadata": {},
     "output_type": "execute_result"
    }
   ],
   "source": [
    "data_clean_top10_country.price.min()"
   ]
  },
  {
   "cell_type": "markdown",
   "id": "modern-principle",
   "metadata": {},
   "source": [
    "Negative price?? What's the reason?\n",
    "- Huge standard deviation"
   ]
  },
  {
   "cell_type": "markdown",
   "id": "tested-montreal",
   "metadata": {},
   "source": [
    "### 1. Straming Time Distribution"
   ]
  },
  {
   "cell_type": "code",
   "execution_count": 26,
   "id": "suitable-recipe",
   "metadata": {},
   "outputs": [
    {
     "data": {
      "image/png": "[encoded data removed]",
      "text/plain": [
       "<Figure size 1332x756 with 1 Axes>"
      ]
     },
     "metadata": {},
     "output_type": "display_data"
    }
   ],
   "source": [
    "fig = plt.gcf()\n",
    "fig.set_size_inches(18.5, 10.5)\n",
    "# histogram and kernel density estimation function of the variable height\n",
    "ax = sns.distplot(data_clean_top10_country[data_clean_top10_country.country == 'United Kingdom'].times_viewed, hist=True, hist_kws={\"edgecolor\": 'w', \"linewidth\": 3}, kde_kws={\"linewidth\": 3})\n",
    "\n",
    "# notation indicating a possible outlier\n",
    "#ax.annotate('Possible outlier', xy=(188,0.0030), xytext=(189,0.0070), fontsize=12,\n",
    "#            arrowprops=dict(arrowstyle='->', ec='grey', lw=2), bbox = dict(boxstyle=\"round\", fc=\"0.8\"))\n",
    "\n",
    "# ticks \n",
    "plt.xticks(fontsize=14)\n",
    "plt.yticks(fontsize=14)\n",
    "\n",
    "# labels and title\n",
    "plt.xlabel('times_viewed', fontsize=14)\n",
    "plt.ylabel('frequency', fontsize=14)\n",
    "plt.title('Distribution of Streaming Time', fontsize=20);"
   ]
  },
  {
   "cell_type": "code",
   "execution_count": 27,
   "id": "disabled-madagascar",
   "metadata": {},
   "outputs": [
    {
     "data": {
      "text/plain": [
       "array(['United Kingdom', 'Portugal', 'Germany', 'EIRE', 'France',\n",
       "       'Netherlands', 'Spain', 'Norway', 'Hong Kong', 'Singapore'],\n",
       "      dtype=object)"
      ]
     },
     "execution_count": 27,
     "metadata": {},
     "output_type": "execute_result"
    }
   ],
   "source": [
    "data_clean_top10_country.country.unique()"
   ]
  }
 ],
 "metadata": {
  "kernelspec": {
   "display_name": "Python 3",
   "language": "python",
   "name": "python3"
  },
  "language_info": {
   "codemirror_mode": {
    "name": "ipython",
    "version": 3
   },
   "file_extension": ".py",
   "mimetype": "text/x-python",
   "name": "python",
   "nbconvert_exporter": "python",
   "pygments_lexer": "ipython3",
   "version": "3.8.2"
  }
 },
 "nbformat": 4,
 "nbformat_minor": 5
}
